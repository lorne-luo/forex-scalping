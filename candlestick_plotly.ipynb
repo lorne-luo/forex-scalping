{
 "cells": [
  {
   "cell_type": "code",
   "execution_count": 10,
   "metadata": {},
   "outputs": [
    {
     "data": {
      "text/html": [
       "<iframe id=\"igraph\" scrolling=\"no\" style=\"border:none;\" seamless=\"seamless\" src=\"https://plot.ly/~luotao/4.embed\" height=\"525px\" width=\"100%\"></iframe>"
      ],
      "text/plain": [
       "<plotly.tools.PlotlyDisplay object>"
      ]
     },
     "execution_count": 10,
     "metadata": {},
     "output_type": "execute_result"
    }
   ],
   "source": [
    "import plotly.plotly as py\n",
    "import plotly.graph_objs as go\n",
    "import nsepy as nse \n",
    "from datetime import datetime, date\n",
    "\n",
    "import plotly \n",
    "plotly.tools.set_credentials_file(username='luotao', api_key='isVwSn0LbZD4vBlIacCK')\n",
    "\n",
    "#https://plot.ly/python/candlestick-charts/\n",
    "df = nse.get_history(symbol=\"YESBANK\",start=date(2018,8,8),end = date(2018,12,29))\n",
    "\n",
    "trace = go.Candlestick(x=df.index,\n",
    "                       open=df.Open,\n",
    "                       high=df.High,\n",
    "                       low=df.Low,\n",
    "                       close=df.Close)\n",
    "data = [trace]\n",
    "py.iplot(data, filename='YESBANK_candlestick')"
   ]
  },
  {
   "cell_type": "code",
   "execution_count": 30,
   "metadata": {},
   "outputs": [
    {
     "data": {
      "text/plain": [
       "time\n",
       "2018-12-02 22:00:00         NaN\n",
       "2018-12-02 22:05:00         NaN\n",
       "2018-12-02 22:10:00         NaN\n",
       "2018-12-02 22:15:00         NaN\n",
       "2018-12-02 22:20:00         NaN\n",
       "2018-12-02 22:25:00         NaN\n",
       "2018-12-02 22:30:00         NaN\n",
       "2018-12-02 22:35:00         NaN\n",
       "2018-12-02 22:40:00    1.274268\n",
       "2018-12-02 22:45:00    1.274201\n",
       "2018-12-02 22:50:00    1.274106\n",
       "2018-12-02 22:55:00    1.274044\n",
       "2018-12-02 23:00:00    1.274015\n",
       "2018-12-02 23:05:00    1.273972\n",
       "2018-12-02 23:10:00    1.273925\n",
       "2018-12-02 23:15:00    1.273908\n",
       "2018-12-02 23:20:00    1.273910\n",
       "2018-12-02 23:25:00    1.273959\n",
       "2018-12-02 23:30:00    1.274061\n",
       "2018-12-02 23:35:00    1.274181\n",
       "2018-12-02 23:40:00    1.274287\n",
       "2018-12-02 23:45:00    1.274392\n",
       "2018-12-02 23:50:00    1.274507\n",
       "2018-12-02 23:55:00    1.274642\n",
       "2018-12-03 00:00:00    1.274757\n",
       "2018-12-03 00:05:00    1.274842\n",
       "2018-12-03 00:10:00    1.274908\n",
       "2018-12-03 00:15:00    1.274941\n",
       "2018-12-03 00:20:00    1.274965\n",
       "2018-12-03 00:25:00    1.275018\n",
       "                         ...   \n",
       "2018-12-31 19:30:00    1.273758\n",
       "2018-12-31 19:35:00    1.273666\n",
       "2018-12-31 19:40:00    1.273575\n",
       "2018-12-31 19:45:00    1.273545\n",
       "2018-12-31 19:50:00    1.273554\n",
       "2018-12-31 19:55:00    1.273623\n",
       "2018-12-31 20:00:00    1.273761\n",
       "2018-12-31 20:05:00    1.273932\n",
       "2018-12-31 20:10:00    1.274134\n",
       "2018-12-31 20:15:00    1.274373\n",
       "2018-12-31 20:20:00    1.274625\n",
       "2018-12-31 20:25:00    1.274842\n",
       "2018-12-31 20:30:00    1.275004\n",
       "2018-12-31 20:35:00    1.275120\n",
       "2018-12-31 20:40:00    1.275174\n",
       "2018-12-31 20:45:00    1.275182\n",
       "2018-12-31 20:50:00    1.275170\n",
       "2018-12-31 20:55:00    1.275124\n",
       "2018-12-31 21:00:00    1.275106\n",
       "2018-12-31 21:05:00    1.275132\n",
       "2018-12-31 21:10:00    1.275152\n",
       "2018-12-31 21:15:00    1.275148\n",
       "2018-12-31 21:20:00    1.275135\n",
       "2018-12-31 21:25:00    1.275134\n",
       "2018-12-31 21:30:00    1.275155\n",
       "2018-12-31 21:35:00    1.275231\n",
       "2018-12-31 21:40:00    1.275345\n",
       "2018-12-31 21:45:00    1.275399\n",
       "2018-12-31 21:50:00    1.275350\n",
       "2018-12-31 21:55:00    1.275324\n",
       "Length: 5818, dtype: float64"
      ]
     },
     "execution_count": 30,
     "metadata": {},
     "output_type": "execute_result"
    }
   ],
   "source": [
    "import plotly.plotly as py\n",
    "import plotly.graph_objs as go\n",
    "import pandas as pd\n",
    "import talib as ta\n",
    "from talib import MA_Type\n",
    "from datetime import datetime\n",
    "\n",
    "import plotly \n",
    "plotly.tools.set_credentials_file(username='luotao', api_key='isVwSn0LbZD4vBlIacCK')\n",
    "\n",
    "df=pd.read_csv('GBPUSD_5_clean.csv',header=0, index_col='time',parse_dates=True)\n",
    "\n",
    "# trace = go.Candlestick(x=df.index,\n",
    "#                        open=df['open'],\n",
    "#                        high=df['high'],\n",
    "#                        low=df['low'],\n",
    "#                        close=df['close'])\n",
    "# data = [trace]\n",
    "# py.iplot(data, filename='GBPUSD_5_candlestick')\n",
    "\n",
    "#BBANDS(close, timeperiod=5, nbdevup=2, nbdevdn=2, matype=0)\n",
    "upper, middle, lower = ta.BBANDS(df.close,timeperiod=9, matype=MA_Type.T3)\n",
    "\n",
    "sma9 = ta.SMA(df['mean'],timeperiod=9)\n",
    "sma9"
   ]
  },
  {
   "cell_type": "code",
   "execution_count": null,
   "metadata": {},
   "outputs": [],
   "source": [
    ""
   ]
  }
 ],
 "metadata": {
  "kernelspec": {
   "display_name": "Python 3",
   "language": "python",
   "name": "python3"
  },
  "language_info": {
   "codemirror_mode": {
    "name": "ipython",
    "version": 3.0
   },
   "file_extension": ".py",
   "mimetype": "text/x-python",
   "name": "python",
   "nbconvert_exporter": "python",
   "pygments_lexer": "ipython3",
   "version": "3.7.1"
  }
 },
 "nbformat": 4,
 "nbformat_minor": 0
}